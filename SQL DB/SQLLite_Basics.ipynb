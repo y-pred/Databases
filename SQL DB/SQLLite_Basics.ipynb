{
  "nbformat": 4,
  "nbformat_minor": 0,
  "metadata": {
    "colab": {
      "provenance": []
    },
    "kernelspec": {
      "name": "python3",
      "display_name": "Python 3"
    },
    "language_info": {
      "name": "python"
    }
  },
  "cells": [
    {
      "cell_type": "code",
      "execution_count": 1,
      "metadata": {
        "id": "2q5hL0Kekrfe"
      },
      "outputs": [],
      "source": [
        "import sqlite3"
      ]
    },
    {
      "cell_type": "code",
      "source": [
        "conn = sqlite3.connect('sample_db.sqlite')"
      ],
      "metadata": {
        "id": "S_vMD_7TPuwv"
      },
      "execution_count": 2,
      "outputs": []
    },
    {
      "cell_type": "code",
      "source": [
        "cursor = conn.cursor()\n",
        "\n",
        "cursor.execute('''\n",
        "CREATE TABLE books (\n",
        "    id INTEGER PRIMARY KEY,\n",
        "    title TEXT NOT NULL,\n",
        "    author TEXT NOT NULL,\n",
        "    year_published INTEGER\n",
        ")\n",
        "''')\n",
        "\n",
        "conn.commit()"
      ],
      "metadata": {
        "id": "cSwKjYg3PxWG"
      },
      "execution_count": 3,
      "outputs": []
    },
    {
      "cell_type": "code",
      "source": [
        "books_data = [\n",
        "    (\"To Kill a Mockingbird\", \"Harper Lee\", 1960),\n",
        "    (\"1984\", \"George Orwell\", 1949),\n",
        "    (\"The Great Gatsby\", \"F. Scott Fitzgerald\", 1925)\n",
        "]\n",
        "\n",
        "cursor.executemany('''\n",
        "INSERT INTO books (title, author, year_published) VALUES (?, ?, ?)\n",
        "''', books_data)\n",
        "\n",
        "conn.commit()"
      ],
      "metadata": {
        "id": "cMS0pX_PP2bn"
      },
      "execution_count": 4,
      "outputs": []
    },
    {
      "cell_type": "code",
      "source": [
        "cursor.execute(\"SELECT * FROM books\")\n",
        "books = cursor.fetchall()\n",
        "\n",
        "for book in books:\n",
        "    print(book)"
      ],
      "metadata": {
        "colab": {
          "base_uri": "https://localhost:8080/"
        },
        "id": "Vbp0SkR4P6Q-",
        "outputId": "bd4e5282-bddc-4a71-cf58-eaca1a6b964d"
      },
      "execution_count": 5,
      "outputs": [
        {
          "output_type": "stream",
          "name": "stdout",
          "text": [
            "(1, 'To Kill a Mockingbird', 'Harper Lee', 1960)\n",
            "(2, '1984', 'George Orwell', 1949)\n",
            "(3, 'The Great Gatsby', 'F. Scott Fitzgerald', 1925)\n"
          ]
        }
      ]
    },
    {
      "cell_type": "code",
      "source": [
        "cursor.execute(\"SELECT * FROM books WHERE year_published > 1950\")\n",
        "recent_books = cursor.fetchall()\n",
        "\n",
        "for book in recent_books:\n",
        "    print(book)"
      ],
      "metadata": {
        "colab": {
          "base_uri": "https://localhost:8080/"
        },
        "id": "us0AT9YYP-Zn",
        "outputId": "3b2dd205-38f1-437b-e688-773e2b97f49d"
      },
      "execution_count": 6,
      "outputs": [
        {
          "output_type": "stream",
          "name": "stdout",
          "text": [
            "(1, 'To Kill a Mockingbird', 'Harper Lee', 1960)\n"
          ]
        }
      ]
    },
    {
      "cell_type": "code",
      "source": [
        "import pandas as pd\n",
        "# Read the table into a DataFrame\n",
        "df = pd.read_sql_query(\"SELECT * FROM books\", conn)\n",
        "\n",
        "# Display the DataFrame\n",
        "print(df)"
      ],
      "metadata": {
        "colab": {
          "base_uri": "https://localhost:8080/"
        },
        "id": "K-ziu6x9QdBv",
        "outputId": "8c3e4bb6-ec87-40ec-ca36-763977f72fe6"
      },
      "execution_count": 9,
      "outputs": [
        {
          "output_type": "stream",
          "name": "stdout",
          "text": [
            "   id                  title               author  year_published\n",
            "0   1  To Kill a Mockingbird           Harper Lee            1960\n",
            "1   2                   1984        George Orwell            1949\n",
            "2   3       The Great Gatsby  F. Scott Fitzgerald            1925\n"
          ]
        }
      ]
    },
    {
      "cell_type": "code",
      "source": [
        "conn.close()"
      ],
      "metadata": {
        "id": "e9uk7D3dQ-MP"
      },
      "execution_count": 10,
      "outputs": []
    }
  ]
}